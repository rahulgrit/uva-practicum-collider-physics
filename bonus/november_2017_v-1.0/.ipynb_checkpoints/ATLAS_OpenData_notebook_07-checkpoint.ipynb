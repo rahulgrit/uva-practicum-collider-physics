{
 "cells": [
  {
   "cell_type": "markdown",
   "metadata": {},
   "source": [
    "<CENTER><img src=\"opendata-top-transblack.png\" style=\"width:60%\"></CENTER>"
   ]
  },
  {
   "cell_type": "markdown",
   "metadata": {},
   "source": [
    "<CENTER><h1>Simple pyROOT notebook example</h1></CENTER>"
   ]
  },
  {
   "cell_type": "code",
   "execution_count": 1,
   "metadata": {},
   "outputs": [
    {
     "data": {
      "application/javascript": [
       "\n",
       "require(['notebook'],\n",
       "  function() {\n",
       "    IPython.CodeCell.config_defaults.highlight_modes['magic_text/x-c++src'] = {'reg':[/^%%cpp/]};\n",
       "    console.log(\"JupyROOT - %%cpp magic configured\");\n",
       "  }\n",
       ");\n"
      ]
     },
     "metadata": {},
     "output_type": "display_data"
    },
    {
     "name": "stdout",
     "output_type": "stream",
     "text": [
      "Welcome to JupyROOT 6.08/04\n"
     ]
    }
   ],
   "source": [
    "import ROOT"
   ]
  },
  {
   "cell_type": "code",
   "execution_count": 2,
   "metadata": {},
   "outputs": [],
   "source": [
    "bgs= ROOT.TFile.Open(\"http://opendata.atlas.cern/release/samples/MC/mc_105985.WW.root\")\n",
    "sig = ROOT.TFile.Open(\"http://opendata.atlas.cern/release/samples/MC/mc_161005.ggH125_WW2lep.root\")"
   ]
  },
  {
   "cell_type": "code",
   "execution_count": 3,
   "metadata": {},
   "outputs": [],
   "source": [
    "c = ROOT.TCanvas(\"testCanvas\",\"a first way to plot a variable\",800,600)"
   ]
  },
  {
   "cell_type": "code",
   "execution_count": 4,
   "metadata": {},
   "outputs": [],
   "source": [
    "t_bgs = bgs.Get(\"mini\")\n",
    "t_sig = sig.Get(\"mini\")"
   ]
  },
  {
   "cell_type": "code",
   "execution_count": 5,
   "metadata": {},
   "outputs": [],
   "source": [
    "h_bgs = ROOT.TH1F(\"variable_bgs\",\"Example plot: Number of Leptons\",4,0,4)\n",
    "h2_bgs = ROOT.TH1F(\"variable2_bgs\",\"Example plot: Number of Jets\",10,0,10)\n",
    "\n",
    "h_sig = ROOT.TH1F(\"variable_sig\",\"Example plot: Number of Leptons\",4,0,4)\n",
    "h2_sig = ROOT.TH1F(\"variable2_sig\",\"Example plot: Number of Jets\",10,0,10)"
   ]
  },
  {
   "cell_type": "code",
   "execution_count": 6,
   "metadata": {
    "scrolled": true
   },
   "outputs": [
    {
     "name": "stdout",
     "output_type": "stream",
     "text": [
      "Done!\n"
     ]
    }
   ],
   "source": [
    "for event in t_bgs:\n",
    "    h_bgs.Fill(t_bgs.lep_n)\n",
    "    h2_bgs.Fill(t_bgs.jet_n)\n",
    "for event in t_sig:\n",
    "    h_sig.Fill(t_sig.lep_n)\n",
    "    h2_sig.Fill(t_sig.jet_n)\n",
    "        \n",
    "print \"Done!\""
   ]
  },
  {
   "cell_type": "code",
   "execution_count": 7,
   "metadata": {},
   "outputs": [],
   "source": [
    "scale_sig = h_sig.Integral()\n",
    "h_sig.Scale(1/scale_sig)\n",
    "\n",
    "scale2_sig = h2_sig.Integral()\n",
    "h2_sig.Scale(1/scale2_sig)\n",
    "\n",
    "#h_sig.Draw()\n",
    "#h2_sig.Draw(\"same\")\n",
    "#c.Draw()"
   ]
  },
  {
   "cell_type": "code",
   "execution_count": 8,
   "metadata": {},
   "outputs": [
    {
     "data": {
      "image/png": "[encoded data removed]",
      "text/plain": [
       "<IPython.core.display.Image object>"
      ]
     },
     "metadata": {},
     "output_type": "display_data"
    }
   ],
   "source": [
    "scale_bgs = h_bgs.Integral()\n",
    "h_bgs.Scale(1/scale_bgs)\n",
    "\n",
    "scale2_bgs= h2_bgs.Integral()\n",
    "h2_bgs.Scale(1/scale2_bgs)\n",
    "\n",
    "\n",
    "h_bgs.SetFillStyle(3008)\n",
    "h_bgs.SetFillColor(4)\n",
    "h_sig.SetFillStyle(3003)\n",
    "h_sig.SetFillColor(2)\n",
    "\n",
    "legend=ROOT.TLegend(0.75,0.7,0.9,0.9)\n",
    "legend.AddEntry(h_bgs,\"Background(WW)\",\"f\")\n",
    "legend.AddEntry(h_sig,\"Signal(Higgs)\",\"f\")\n",
    "\n",
    "h_sig.SetLineColor(2)\n",
    "h_sig.SetStats(0)\n",
    "h_bgs.SetStats(0)\n",
    "\n",
    "h_bgs.Draw()\n",
    "h_sig.Draw(\"same\")\n",
    "legend.Draw()\n",
    "c.Draw()\n"
   ]
  },
  {
   "cell_type": "code",
   "execution_count": 9,
   "metadata": {},
   "outputs": [
    {
     "data": {
      "image/png": "[encoded data removed]",
      "text/plain": [
       "<IPython.core.display.Image object>"
      ]
     },
     "metadata": {},
     "output_type": "display_data"
    }
   ],
   "source": [
    "\n",
    "h2_bgs.SetFillStyle(3008)\n",
    "h2_bgs.SetFillColor(4)\n",
    "h2_sig.SetFillStyle(3003)\n",
    "h2_sig.SetFillColor(2)\n",
    "\n",
    "legend=ROOT.TLegend(0.5,0.7,0.9,0.9)\n",
    "legend.AddEntry(h2_bgs,\"Background(WW)\",\"f\")\n",
    "legend.AddEntry(h2_sig,\"Signal(Higgs)\",\"f\")\n",
    "\n",
    "\n",
    "h2_sig.SetLineColor(2)\n",
    "h2_sig.SetStats(0)\n",
    "h2_bgs.SetStats(0)\n",
    "h2_sig.Draw()\n",
    "h2_bgs.Draw(\"same\")\n",
    "legend.Draw()\n",
    "c.Draw()\n"
   ]
  },
  {
   "cell_type": "code",
   "execution_count": null,
   "metadata": {},
   "outputs": [],
   "source": []
  }
 ],
 "metadata": {
  "kernelspec": {
   "display_name": "Python 2",
   "language": "python",
   "name": "python2"
  },
  "language_info": {
   "codemirror_mode": {
    "name": "ipython",
    "version": 2
   },
   "file_extension": ".py",
   "mimetype": "text/x-python",
   "name": "python",
   "nbconvert_exporter": "python",
   "pygments_lexer": "ipython2",
   "version": "2.7.17"
  }
 },
 "nbformat": 4,
 "nbformat_minor": 1
}
