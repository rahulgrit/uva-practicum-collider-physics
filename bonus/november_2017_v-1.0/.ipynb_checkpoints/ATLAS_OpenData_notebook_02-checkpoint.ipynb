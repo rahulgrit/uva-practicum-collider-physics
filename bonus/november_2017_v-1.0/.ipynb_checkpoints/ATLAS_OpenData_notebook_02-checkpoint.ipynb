{
 "cells": [
  {
   "cell_type": "markdown",
   "metadata": {},
   "source": [
    "<CENTER>\n",
    "    <a href=\"http://opendata.atlas.cern\" class=\"icons\"><img src=\"http://opendata.atlas.cern/DataAndTools/pictures/opendata-top-transblack.png\" style=\"width:40%\"></a>\n",
    "</CENTER>"
   ]
  },
  {
   "cell_type": "markdown",
   "metadata": {},
   "source": [
    "<CENTER>\n",
    "    <br><h1>An introductional notebook to HEP analysis in Python</h1></br>\n",
    "</CENTER>\n",
    "\n",
    "<p>In this notebook you can find an easy set of commands that show some basic computing techniques commonly used in High Energy Physics (HEP) analyzes.</p>\n",
    "\n",
    "<p>It also shows how to create an histogram, fill it and draw it. Moreover it is an introduction to <a href=\"https://root.cern.ch\" target=\"_blank\">ROOT</a> too. The final output is a plot with the number of leptons.</p>\n",
    "\n",
    "<p><b>Check the <a href=\"#Cell-#10\">description of the varibles inside the dataset</a> at the end of this notebook</b></p>\n",
    "\n",
    "<p><b>All done with less that 15 lines of code!</b></p>"
   ]
  },
  {
   "cell_type": "markdown",
   "metadata": {},
   "source": [
    "<h2>An introduction to the ATLAS public datasets</h2>\n",
    "<p>This is a notebook using the <b>ROOT Prompt kernel</b> that using <i>c++</i> language, is intended to show the internal content and the way to call and interact with the datasets released by the ATLAS experiment with focus in Education and Training activities:</p>\n",
    "\n",
    "</br>\n",
    "\n",
    "<h3>We use data recorded (simulated) by the ATLAS detector (experiment)</h3>\n",
    "\n",
    "<p>where physics objects can be represented as below</p>\n",
    "<img src=\"./pictures/eve_gen_0806_001.jpg\" alt=\"ATLAS azimuthal view with physics objects\" style=\"width:67%\">"
   ]
  },
  {
   "cell_type": "markdown",
   "metadata": {},
   "source": [
    "<h3>Cell #1</h3>\n",
    "<p>First of all ROOT is imported to read the files in the _.root_ data format. A _.root_ file consists of a tree having branches and leaves.</p>\n",
    "<p>At this point you could also import further programs that contain other formulas that you maybe use more often. But here we don't import other programs to keep it simple.</p>"
   ]
  },
  {
   "cell_type": "code",
   "execution_count": null,
   "metadata": {},
   "outputs": [],
   "source": [
    "import ROOT"
   ]
  },
  {
   "cell_type": "markdown",
   "metadata": {},
   "source": [
    "<h3>Cell #2</h3>\n",
    "<p>In order to activate the interactive visualisation of the histogram that is later created we can use the JSROOT magic:</p>"
   ]
  },
  {
   "cell_type": "code",
   "execution_count": null,
   "metadata": {},
   "outputs": [],
   "source": [
    "%jsroot on"
   ]
  },
  {
   "cell_type": "markdown",
   "metadata": {},
   "source": [
    "<h3>Cell #3</h3>\n",
    "<p>Next we have to open the data that we want to analyze. It is stored in a _*.root_ file that consists of a tree having branches and leaves.</p>\n",
    "<p>As you can see, we are reading the data directly from the source! but you can read the file locally too.</p>"
   ]
  },
  {
   "cell_type": "code",
   "execution_count": null,
   "metadata": {},
   "outputs": [],
   "source": [
    "f = ROOT.TFile.Open(\"http://opendata.atlas.cern/release/samples/MC/mc_147770.Zee.root\")\n",
    "## f = ROOT.TFile.Open(\"mc_105986.ZZ.root\")"
   ]
  },
  {
   "cell_type": "markdown",
   "metadata": {},
   "source": [
    "<h3>Cell #4</h3>\n",
    "<p>The next step is to define a tree named (we called _tree_) to get the data out of the _*.root_ file, that is into a tree called _mini_:</p>"
   ]
  },
  {
   "cell_type": "code",
   "execution_count": null,
   "metadata": {},
   "outputs": [],
   "source": [
    "tree = f.Get(\"mini\")"
   ]
  },
  {
   "cell_type": "markdown",
   "metadata": {},
   "source": [
    "<h3>Cell #5</h3>\n",
    "<p>After the data is opened we create a canvas on which we can draw a histogram. If we do not have a canvas we cannot see our histogram at the end. Its name is _Canvas_ and its header is _a first way to plot a variable_. The two following arguments define the width and the height of the canvas.</p>"
   ]
  },
  {
   "cell_type": "code",
   "execution_count": null,
   "metadata": {},
   "outputs": [],
   "source": [
    "canvas = ROOT.TCanvas(\"Canvas\",\"a first way to plot a variable\",800,600)"
   ]
  },
  {
   "cell_type": "markdown",
   "metadata": {},
   "source": [
    "<h3>Cell #6</h3>\n",
    "<p>Now we define a histogram that will later be placed on this canvas. Its name is _variable_ and the header of the histogram is _Example plot: Number of leptons_. The three following arguments indicate that this histogram contains 4 so called bins which have a range from 0 to 4.</p>"
   ]
  },
  {
   "cell_type": "code",
   "execution_count": null,
   "metadata": {},
   "outputs": [],
   "source": [
    "hist = ROOT.TH1F(\"variable\",\"Example plot: Number of leptons\",4,0,4)"
   ]
  },
  {
   "cell_type": "markdown",
   "metadata": {},
   "source": [
    "<h3>Cell #7</h3>\n",
    "<p>The following lines are a loop that goes over the data that is stored in the tree and fills the histogram _h_ that we already defined. In this first notebook we don't do any cuts to keep it simple. Accordingly the loop fills the histogram for each event stored in the tree. After the program has looped over all the data it prints the word</p>\n",
    "__Done!__."
   ]
  },
  {
   "cell_type": "code",
   "execution_count": null,
   "metadata": {},
   "outputs": [],
   "source": [
    "for event in tree:\n",
    "    hist.Fill(tree.lep_n)\n",
    "    \n",
    "print \"Done!\""
   ]
  },
  {
   "cell_type": "markdown",
   "metadata": {},
   "source": [
    "<h3>Cell #8</h3>\n",
    "<p>After filling the histogram we want to see the results of the analysis. First we draw the histogram on the canvas and then the canvas on which the histogram lies:</p>"
   ]
  },
  {
   "cell_type": "code",
   "execution_count": null,
   "metadata": {},
   "outputs": [],
   "source": [
    "hist.Draw()\n",
    "canvas.Draw()"
   ]
  },
  {
   "cell_type": "markdown",
   "metadata": {},
   "source": [
    "<h3>Cell #9</h3>\n",
    "<p>...</p>"
   ]
  },
  {
   "cell_type": "code",
   "execution_count": null,
   "metadata": {},
   "outputs": [],
   "source": [
    "scale = hist.Integral()\n",
    "hist.Scale(1/scale)"
   ]
  },
  {
   "cell_type": "markdown",
   "metadata": {},
   "source": [
    "<h3>Cell #10</h3>\n",
    "<p>...</p>"
   ]
  },
  {
   "cell_type": "code",
   "execution_count": null,
   "metadata": {},
   "outputs": [],
   "source": [
    "hist.Draw()\n",
    "canvas.Draw()"
   ]
  },
  {
   "cell_type": "markdown",
   "metadata": {},
   "source": [
    "<hr>\n",
    "<h3>Cell #11</h3>\n",
    "<h3>Description of the Variables inside the _mini_ tree in the ATLAS Open Data samples</h3>\n",
    "\n",
    "| <font size=\"3\"><b># variable</b></font> | <font size=\"5\"><b>branchname</b></font> | <font size=\"5\"><b>type</b></font> | <font size=\"5\"><b>description</b></font> |\n",
    "| :-----: | ------------- | :-------------: | :-----: |\n",
    "| <i>01</i> | <b id=\"runNumber\">runNumber</b>               | int           | runNumber |\n",
    "| <i>02</i> | <b id=\"eventNumber\">eventNumber</b>           | int           | eventNumber |\n",
    "| <i>03</i> | <b id=\"channelNumber\">channelNumber</b>       | int           | channelNumber |\n",
    "| <i>04</i> | <b id=\"lbNumber\">lbNumber</b>                 | int           | lbNumber |\n",
    "| <i>05</i> | <b id=\"rndRunNumber\">rndRunNumber</b>         | int           | randomized run number mimicking run number distribution in data |\n",
    "| <i>06</i> | <b id=\"mu\">mu</b>                             | float         | average interactions per bunch crossing |\n",
    "| <i>07</i> | <b id=\"mcWeight\">mcWeight</b>                 | float         | weight of an MC event |\n",
    "| <i>08</i> | <b id=\"pvxp_n\">pvxp_n</b>                     | int           | number of primary vertices |\n",
    "| <i>09</i> | <b id=\"isGoodEvent\">isGoodEvent</b>           | int           | summary of diverse quality flags like hfor |\n",
    "| <i>10</i> | <b id=\"scaleFactor\">scaleFactor</b>           | float         | overall scale factor for the preselected event |\n",
    "| <i>11</i> | <b id=\"trigE\">trigE</b>                       | bool          | boolean whether a standard trigger has fired in the egamma stream |\n",
    "| <i>12</i> | <b id=\"trigM\">trigM</b>                       | bool          | boolean whether a standard trigger has fired in the muon stream |\n",
    "| <i>13</i> | <b id=\"passGRL\">passGRL</b>                   | bool          | signifies whether event passes the GRL may be put in isGoodEvent |\n",
    "| <i>14</i> | <b id=\"hasGoodVertex\">hasGoodVertex</b>       | bool          | signifies whether the event has at least one good vertex |\n",
    "| <i>15</i> | <b id=\"lep_n\">lep_n</b>                       | int           | number of preselected leptons |\n",
    "| <i>16</i> | <b id=\"lep_truthMatched\">lep_truthMatched</b> | vector<bool>  | boolean indicating whether the lepton is matched to a truth lepton |\n",
    "| <i>17</i> | <b id=\"lep_trigMatched\">lep_trigMatched</b>   | vector<bool>  | boolean signifying whether the lepton is the one triggering the event |\n",
    "| <i>18</i> | <b id=\"lep_pt\">lep_pt</b>                    | vector<float> | transverse momentum of the lepton |\n",
    "| <i>19</i> | <b id=\"lep_eta\">lep_eta</b>                  | vector<float> | pseudo-rapidity of the lepton |\n",
    "| <i>20</i> | <b id=\"lep_phi\">lep_phi</b>                  | vector<float> | azimuthal angle of the lepton |\n",
    "| <i>21</i> | <b id=\"lep_E\">lep_E</b>                      | vector<float> | energy of the lepton |\n",
    "| <i>22</i> | <b id=\"lep_z0\">lep_z0</b>                    | vector<float> | z-coordinate of the track associated to the lepton wrt. the primary vertex |\n",
    "| <i>23</i> | <b id=\"lep_charge\">lep_charge</b>            | vector<float> | charge of the lepton |\n",
    "| <i>24</i> | <b id=\"lep_isTight\">lep_isTight</b>          | vector<bool>  | boolean indicating whether the lepton is of tight quality |\n",
    "| <i>25</i> | <b id=\"lep_flag\">lep_flag</b>                | vector<int>   | bitmask implementing object cuts of the top group |\n",
    "| <i>26</i> | <b id=\"lep_type\">lep_type</b>                | vector<int>   | number signifying the lepton type (e, mu, tau) of the lepton |\n",
    "| <i>27</i> | <b id=\"lep_ptcone30\">lep_ptcone30</b>        | vector<float> | ptcone30 isolation for the lepton |\n",
    "| <i>28</i> | <b id=\"lep_etcone20\">lep_etcone20</b>        | vector<float> | etcone20 isolation for the lepton |\n",
    "| <i>28</i> | <b id=\"lep_trackd0pvunbiased\">lep_trackd0pvunbiased</b> | vector<float>  | d0 of the track associated to the lepton at the point of closest approach (p.o.a.) |\n",
    "| <i>29</i> | <b id=\"lep_tracksigd0pvunbiased\">lep_tracksigd0pvunbiased</b> | vector<float>  | d0 signifcance of the track associated to the lepton at the p.o.a. |\n",
    "| <i>30</i> | <b id=\"met_et\">met_et                        | float         | Transverse energy of the missing momentum vector |\n",
    "| <i>31</i> | <b id=\"met_phi\">met_phi                      | float         | Azimuthal angle of the missing momentum vector |\n",
    "| <i>32</i> | <b id=\"jet_n\">jet_n                          | int           | number of selected jets |\n",
    "| <i>33</i> | <b id=\"jet_pt\">jet_pt                        | vector<float> | transverse momentum of the jet |\n",
    "| <i>34</i> | <b id=\"jet_eta\">jet_eta                      | vector<float> | pseudorapidity of the jet |\n",
    "| <i>35</i> | <b id=\"jet_phi\">jet_phi                      | vector<float> | azimuthal angle of the jet |\n",
    "| <i>36</i> | <b id=\"jet_E\">jet_E                          | vector<float> | energy of the jet |\n",
    "| <i>37</i> | <b id=\"jet_m\">jet_m                          | vector<float> | invariant mass of the jet |\n",
    "| <i>38</i> | <b id=\"jet_jvf\">jet_jvf                      | vector<float> | JetVertexFraction of the jet |\n",
    "| <i>39</i> | <b id=\"jet_flag\">jet_flag                    | vector<int>   | bitmask implementing object cuts of the top group |\n",
    "| <i>40</i> | <b id=\"jet_trueflav\">jet_trueflav            | vector<int>   | true flavor of the jet |\n",
    "| <i>41</i> | <b id=\"jet_truthMatched\">jet_truthMatched    | vector<int>   | information whether the jet matches a jet on truth level |\n",
    "| <i>42</i> | <b id=\"jet_SV0\">jet_SV0                      | vector<float> | SV0 weight of the jet |\n",
    "| <i>43</i> | <b id=\"jet_MV1\">jet_MV1                      | vector<float> | MV1 weight of the jet |\n",
    "| <i>44</i> | <b id=\"scaleFactor_BTAG\">scaleFactor_BTAG    | float         | scalefactor for btagging |\n",
    "| <i>45</i> | <b id=\"scaleFactor_ELE\">scaleFactor_ELE      | float         | scalefactor for electron efficiency |\n",
    "| <i>46</i> | <b id=\"scaleFactor_JVFSF\">scaleFactor_JVFSF  | float         | scalefactor for jet vertex fraction |\n",
    "| <i>47</i> | <b id=\"scaleFactor_MUON\">scaleFactor_MUON    | float         | scalefactor for muon efficiency |\n",
    "| <i>48</i> | <b id=\"scaleFactor_PILEUP\">scaleFactor_PILEUP   | float      | scalefactor for pileup reweighting |\n",
    "| <i>49</i> | <b id=\"scaleFactor_TRIGGER\">scaleFactor_TRIGGER | float      | scalefactor for trigger |\n",
    "| <i>50</i> | <b id=\"scaleFactor_ZVERTEX\">scaleFactor_ZVERTEX | float      | scalefactor for z-vertex reweighting |"
   ]
  },
  {
   "cell_type": "markdown",
   "metadata": {},
   "source": [
    "<hr>"
   ]
  }
 ],
 "metadata": {
  "kernelspec": {
   "display_name": "Python 2",
   "language": "python",
   "name": "python2"
  },
  "language_info": {
   "codemirror_mode": {
    "name": "ipython",
    "version": 2
   },
   "file_extension": ".py",
   "mimetype": "text/x-python",
   "name": "python",
   "nbconvert_exporter": "python",
   "pygments_lexer": "ipython2",
   "version": "2.7.13"
  }
 },
 "nbformat": 4,
 "nbformat_minor": 2
}
