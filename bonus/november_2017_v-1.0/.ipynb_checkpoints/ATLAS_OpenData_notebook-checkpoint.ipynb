{
 "cells": [
  {
   "cell_type": "markdown",
   "metadata": {},
   "source": [
    "<CENTER>\n",
    "<img src=\"http://www.atlasexperiment.org/photos/atlas_photos/selected-photos/logos/2015/ATLAS-Logo-Ref-RGB.png\" alt=\"ATLAS logo black and blue\" style=\"width:80%\">\n",
    "<h2><a href=\"http://atlas.ch\">ATLAS</a> Data and Tool example notebook</h2>\n",
    "<b>Created: March, 2016.</b>\n",
    "<a href=\"https://atlas-outreach.web.cern.ch/data-tools-group\">Outreach Team</a> and for more information, visit the <a href=\"https://home.cern\">CERN</a> <a href=\"https://opendata.cern.ch\"> OpenData portal</a> site!\n",
    "</CENTER>\n",
    "</br>"
   ]
  },
  {
   "cell_type": "markdown",
   "metadata": {},
   "source": [
    "<h2>An introduction to the ATLAS public datasets</h2>\n",
    "<p>This is a notebook using the <b>ROOT Prompt kernel</b> that using <i>c++</i> language, is intended to show the internal content and the way to call and interact with the datasets released by the ATLAS experiment with focus in Education and Training activities:</p>\n",
    "\n",
    "</br>\n",
    "\n",
    "<h3> Description of the real data samples</h3>\n",
    "\n",
    "</br>\n",
    "\n",
    "<p>\n",
    "The ATLAS detector records data\n",
    "</p>\n",
    "<img src=\"../images/eve_gen_0806_001.jpg\" alt=\"ATLAS azimuthal view with physics objects\" style=\"width:67%\">\n",
    "<p>\n",
    "The ATLAS detector records data\n",
    "</p>\n",
    "\n",
    "</br>\n",
    "\n",
    "<h3> Description of the MonteCarlo (MC) simulated samples</h3>\n",
    "<p>The ATLAS detector records data</p>\n",
    "\n",
    "<img src=\"../images/fde_gen_0197_001.jpg\" alt=\"ATLAS computational simulated detector\" style=\"width:75%\">\n",
    "<p>\n",
    "The ATLAS detector records data\n",
    "</p>\n",
    "\n",
    "\n",
    "</br>\n"
   ]
  },
  {
   "cell_type": "markdown",
   "metadata": {},
   "source": [
    "| <font size=\"3\"><b># variable</b></font> | <font size=\"5\"><b>branchname</b></font> | <font size=\"5\"><b>type</b></font> | <font size=\"5\"><b>description</b></font> |\n",
    "| :-----: | ------------- | :-------------: | :-----: |\n",
    "| <i>01</i> | <b id=\"runNumber\">runNumber</b>               | int           | runNumber |\n",
    "| <i>02</i> | <b id=\"eventNumber\">eventNumber</b>           | int           | eventNumber |\n",
    "| <i>03</i> | <b id=\"channelNumber\">channelNumber</b>       | int           | channelNumber |\n",
    "| <i>04</i> | <b id=\"lbNumber\">lbNumber</b>                 | int           | lbNumber |\n",
    "| <i>05</i> | <b id=\"rndRunNumber\">rndRunNumber</b>         | int           | randomized run number mimicking run number distribution in data |\n",
    "| <i>06</i> | <b id=\"mu\">mu</b>                             | float         | average interactions per bunch crossing |\n",
    "| <i>07</i> | <b id=\"mcWeight\">mcWeight</b>                 | float         | weight of an MC event |\n",
    "| <i>08</i> | <b id=\"pvxp_n\">pvxp_n</b>                     | int           | number of primary vertices |\n",
    "| <i>09</i> | <b id=\"isGoodEvent\">isGoodEvent</b>           | int           | summary of diverse quality flags like hfor |\n",
    "| <i>10</i> | <b id=\"scaleFactor\">scaleFactor</b>           | float         | overall scale factor for the preselected event |\n",
    "| <i>11</i> | <b id=\"trigE\">trigE</b>                       | bool          | boolean whether a standard trigger has fired in the egamma stream |\n",
    "| <i>12</i> | <b id=\"trigM\">trigM</b>                       | bool          | boolean whether a standard trigger has fired in the muon stream |\n",
    "| <i>13</i> | <b id=\"passGRL\">passGRL</b>                   | bool          | signifies whether event passes the GRL may be put in isGoodEvent |\n",
    "| <i>14</i> | <b id=\"hasGoodVertex\">hasGoodVertex</b>       | bool          | signifies whether the event has at least one good vertex |\n",
    "| <i>15</i> | <b id=\"lep_n\">lep_n</b>                       | int           | number of preselected leptons |\n",
    "| <i>16</i> | <b id=\"lep_truthMatched\">lep_truthMatched</b> | vector<bool>  | boolean indicating whether the lepton is matched to a truth lepton |\n",
    "| <i>17</i> | <b id=\"lep_trigMatched\">lep_trigMatched</b>   | vector<bool>  | boolean signifying whether the lepton is the one triggering the event |\n",
    "| <i>18</i> | <b id=\"lep_pt\">lep_pt</b>                    | vector<float> | transverse momentum of the lepton |\n",
    "| <i>19</i> | <b id=\"lep_eta\">lep_eta</b>                  | vector<float> | pseudo-rapidity of the lepton |\n",
    "| <i>20</i> | <b id=\"lep_phi\">lep_phi</b>                  | vector<float> | azimuthal angle of the lepton |\n",
    "| <i>21</i> | <b id=\"lep_E\">lep_E</b>                      | vector<float> | energy of the lepton |\n",
    "| <i>22</i> | <b id=\"lep_z0\">lep_z0</b>                    | vector<float> | z-coordinate of the track associated to the lepton wrt. the primary vertex |\n",
    "| <i>23</i> | <b id=\"lep_charge\">lep_charge</b>            | vector<float> | charge of the lepton |\n",
    "| <i>24</i> | <b id=\"lep_isTight\">lep_isTight</b>          | vector<bool>  | boolean indicating whether the lepton is of tight quality |\n",
    "| <i>25</i> | <b id=\"lep_flag\">lep_flag</b>                | vector<int>   | bitmask implementing object cuts of the top group |\n",
    "| <i>26</i> | <b id=\"lep_type\">lep_type</b>                | vector<int>   | number signifying the lepton type (e, mu, tau) of the lepton |\n",
    "| <i>27</i> | <b id=\"lep_ptcone30\">lep_ptcone30</b>        | vector<float> | ptcone30 isolation for the lepton |\n",
    "| <i>28</i> | <b id=\"lep_etcone20\">lep_etcone20</b>        | vector<float> | etcone20 isolation for the lepton |\n",
    "| <i>28</i> | <b id=\"lep_trackd0pvunbiased\">lep_trackd0pvunbiased</b> | vector<float>  | d0 of the track associated to the lepton at the point of closest approach (p.o.a.) |\n",
    "| <i>29</i> | <b id=\"lep_tracksigd0pvunbiased\">lep_tracksigd0pvunbiased</b> | vector<float>  | d0 signifcance of the track associated to the lepton at the p.o.a. |\n",
    "| <i>30</i> | <b id=\"met_et\">met_et                        | float         | Transverse energy of the missing momentum vector |\n",
    "| <i>31</i> | <b id=\"met_phi\">met_phi                      | float         | Azimuthal angle of the missing momentum vector |\n",
    "| <i>32</i> | <b id=\"jet_n\">jet_n                          | int           | number of selected jets |\n",
    "| <i>33</i> | <b id=\"jet_pt\">jet_pt                        | vector<float> | transverse momentum of the jet |\n",
    "| <i>34</i> | <b id=\"jet_eta\">jet_eta                      | vector<float> | pseudorapidity of the jet |\n",
    "| <i>35</i> | <b id=\"jet_phi\">jet_phi                      | vector<float> | azimuthal angle of the jet |\n",
    "| <i>36</i> | <b id=\"jet_E\">jet_E                          | vector<float> | energy of the jet |\n",
    "| <i>37</i> | <b id=\"jet_m\">jet_m                          | vector<float> | invariant mass of the jet |\n",
    "| <i>38</i> | <b id=\"jet_jvf\">jet_jvf                      | vector<float> | JetVertexFraction of the jet |\n",
    "| <i>39</i> | <b id=\"jet_flag\">jet_flag                    | vector<int>   | bitmask implementing object cuts of the top group |\n",
    "| <i>40</i> | <b id=\"jet_trueflav\">jet_trueflav            | vector<int>   | true flavor of the jet |\n",
    "| <i>41</i> | <b id=\"jet_truthMatched\">jet_truthMatched    | vector<int>   | information whether the jet matches a jet on truth level |\n",
    "| <i>42</i> | <b id=\"jet_SV0\">jet_SV0                      | vector<float> | SV0 weight of the jet |\n",
    "| <i>43</i> | <b id=\"jet_MV1\">jet_MV1                      | vector<float> | MV1 weight of the jet |\n",
    "| <i>44</i> | <b id=\"scaleFactor_BTAG\">scaleFactor_BTAG    | float         | scalefactor for btagging |\n",
    "| <i>45</i> | <b id=\"scaleFactor_ELE\">scaleFactor_ELE      | float         | scalefactor for electron efficiency |\n",
    "| <i>46</i> | <b id=\"scaleFactor_JVFSF\">scaleFactor_JVFSF  | float         | scalefactor for jet vertex fraction |\n",
    "| <i>47</i> | <b id=\"scaleFactor_MUON\">scaleFactor_MUON    | float         | scalefactor for muon efficiency |\n",
    "| <i>48</i> | <b id=\"scaleFactor_PILEUP\">scaleFactor_PILEUP   | float      | scalefactor for pileup reweighting |\n",
    "| <i>49</i> | <b id=\"scaleFactor_TRIGGER\">scaleFactor_TRIGGER | float      | scalefactor for trigger |\n",
    "| <i>50</i> | <b id=\"scaleFactor_ZVERTEX\">scaleFactor_ZVERTEX | float      | scalefactor for z-vertex reweighting |"
   ]
  },
  {
   "cell_type": "markdown",
   "metadata": {},
   "source": [
    "<p><b>1.</b> We can start creating a <a href=\"https://root.cern.ch/doc/master/classTChain.html\">TChain</a> for each type of samples to be used. In this way we can add more that one file if they correspond the same family. For example:</p>\n",
    "<p>    <b>1.a</b> A <a href=\"https://root.cern.ch/doc/master/classTChain.html\">TChain</a> for the real data with electrons/photos filter, so-called: <b>Egamma</b></p>\n",
    "<p>    <b>1.b</b> ggggg</p>\n",
    "<p></p>"
   ]
  },
  {
   "cell_type": "code",
   "execution_count": null,
   "metadata": {
    "collapsed": true
   },
   "outputs": [],
   "source": [
    "TChain *InputDataEgamma = new TChain(\"mini\");\n",
    "TChain *InputDataMuons  = new TChain(\"mini\");\n",
    "TChain *InputMonteCarlo = new TChain(\"mini\");"
   ]
  },
  {
   "cell_type": "markdown",
   "metadata": {},
   "source": [
    "<p><b>2.</b> Now... <a href=\"https://outreach.atlas.ch/repository.html\">ATLAS datasets repository</a> ...correspond the same family as in the step before:</p>"
   ]
  },
  {
   "cell_type": "code",
   "execution_count": null,
   "metadata": {},
   "outputs": [],
   "source": [
    "/*\n",
    "InputDataEgamma->Add(\"/Users/clitemnestra/Downloads/DataEgammaA.root\");\n",
    "*/\n",
    "\n",
    "InputDataEgamma->Add(\"http://arturos.web.cern.ch/arturos/napoli/OutReach/data/DataEgammaA.root\");\n",
    "/*\n",
    "InputDataEgamma->Add(\"http://arturos.web.cern.ch/arturos/napoli/OutReach/data/DataEgammaB.root\");\n",
    "InputDataEgamma->Add(\"http://arturos.web.cern.ch/arturos/napoli/OutReach/data/DataEgammaC.root\");\n",
    "InputDataEgamma->Add(\"http://arturos.web.cern.ch/arturos/napoli/OutReach/data/DataEgammaD.root\");\n",
    "InputDataEgamma->Add(\"http://arturos.web.cern.ch/arturos/napoli/OutReach/data/DataEgammaE.root\");\n",
    "InputDataEgamma->Add(\"http://arturos.web.cern.ch/arturos/napoli/OutReach/data/DataEgammaG.root\");\n",
    "InputDataEgamma->Add(\"http://arturos.web.cern.ch/arturos/napoli/OutReach/data/DataEgammaH.root\");\n",
    "InputDataEgamma->Add(\"http://arturos.web.cern.ch/arturos/napoli/OutReach/data/DataEgammaI.root\");\n",
    "InputDataEgamma->Add(\"http://arturos.web.cern.ch/arturos/napoli/OutReach/data/DataEgammaJ.root\");\n",
    "InputDataEgamma->Add(\"http://arturos.web.cern.ch/arturos/napoli/OutReach/data/DataEgammaL.root\");\n",
    "*/"
   ]
  },
  {
   "cell_type": "markdown",
   "metadata": {
    "collapsed": true
   },
   "source": [
    "<p>(Text)</p>"
   ]
  },
  {
   "cell_type": "code",
   "execution_count": null,
   "metadata": {
    "collapsed": true
   },
   "outputs": [],
   "source": [
    "/*\n",
    "InputDataMuons->Add(\"http://arturos.web.cern.ch/arturos/napoli/OutReach/data/DataMuonsA.root\");\n",
    "InputDataMuons->Add(\"http://arturos.web.cern.ch/arturos/napoli/OutReach/data/DataMuonsB.root\");\n",
    "InputDataMuons->Add(\"http://arturos.web.cern.ch/arturos/napoli/OutReach/data/DataMuonsC.root\");\n",
    "InputDataMuons->Add(\"http://arturos.web.cern.ch/arturos/napoli/OutReach/data/DataMuonsD.root\");\n",
    "InputDataMuons->Add(\"http://arturos.web.cern.ch/arturos/napoli/OutReach/data/DataMuonsE.root\");\n",
    "InputDataMuons->Add(\"http://arturos.web.cern.ch/arturos/napoli/OutReach/data/DataMuonsG.root\");\n",
    "InputDataMuons->Add(\"http://arturos.web.cern.ch/arturos/napoli/OutReach/data/DataMuonsH.root\");\n",
    "InputDataMuons->Add(\"http://arturos.web.cern.ch/arturos/napoli/OutReach/data/DataMuonsI.root\");\n",
    "InputDataMuons->Add(\"http://arturos.web.cern.ch/arturos/napoli/OutReach/data/DataMuonsJ.root\");\n",
    "InputDataMuons->Add(\"http://arturos.web.cern.ch/arturos/napoli/OutReach/data/DataMuonsL.root\");*/"
   ]
  },
  {
   "cell_type": "markdown",
   "metadata": {},
   "source": [
    "<p><b>Text</b></p>"
   ]
  },
  {
   "cell_type": "code",
   "execution_count": null,
   "metadata": {
    "collapsed": true
   },
   "outputs": [],
   "source": [
    "/*\n",
    "InputMonteCarlo->Add(\"http://arturos.web.cern.ch/arturos/napoli/OutReach/mc/mc_105985.WW.root\");\n",
    "InputMonteCarlo->Add(\"http://arturos.web.cern.ch/arturos/napoli/OutReach/mc/mc_105986.ZZ.root\");\n",
    "InputMonteCarlo->Add(\"http://arturos.web.cern.ch/arturos/napoli/OutReach/mc/mc_105987.WZ.root\");\n",
    "InputMonteCarlo->Add(\"http://arturos.web.cern.ch/arturos/napoli/OutReach/mc/mc_110090.stop_tchan_top.root\");\n",
    "InputMonteCarlo->Add(\"http://arturos.web.cern.ch/arturos/napoli/OutReach/mc/mc_110091.stop_tchan_antitop.root\");\n",
    "InputMonteCarlo->Add(\"http://arturos.web.cern.ch/arturos/napoli/OutReach/mc/mc_110119.stop_schan.root\");\n",
    "InputMonteCarlo->Add(\"http://arturos.web.cern.ch/arturos/napoli/OutReach/mc/mc_110140.stop_wtchan.root\");\n",
    "InputMonteCarlo->Add(\"http://arturos.web.cern.ch/arturos/napoli/OutReach/mc/mc_110899.ZPrime400.root\");\n",
    "InputMonteCarlo->Add(\"http://arturos.web.cern.ch/arturos/napoli/OutReach/mc/mc_110901.ZPrime500.root\");\n",
    "InputMonteCarlo->Add(\"http://arturos.web.cern.ch/arturos/napoli/OutReach/mc/mc_110902.ZPrime750.root\");\n",
    "InputMonteCarlo->Add(\"http://arturos.web.cern.ch/arturos/napoli/OutReach/mc/mc_110903.ZPrime1000.root\");\n",
    "InputMonteCarlo->Add(\"http://arturos.web.cern.ch/arturos/napoli/OutReach/mc/mc_110904.ZPrime1250.root\");\n",
    "InputMonteCarlo->Add(\"http://arturos.web.cern.ch/arturos/napoli/OutReach/mc/mc_110905.ZPrime1500.root\");\n",
    "InputMonteCarlo->Add(\"http://arturos.web.cern.ch/arturos/napoli/OutReach/mc/mc_110906.ZPrime1750.root\");\n",
    "InputMonteCarlo->Add(\"http://arturos.web.cern.ch/arturos/napoli/OutReach/mc/mc_110907.ZPrime2000.root\");\n",
    "InputMonteCarlo->Add(\"http://arturos.web.cern.ch/arturos/napoli/OutReach/mc/mc_110908.ZPrime2250.root\");\n",
    "InputMonteCarlo->Add(\"http://arturos.web.cern.ch/arturos/napoli/OutReach/mc/mc_110909.ZPrime2500.root\");\n",
    "InputMonteCarlo->Add(\"http://arturos.web.cern.ch/arturos/napoli/OutReach/mc/mc_110910.ZPrime3000.root\");\n",
    "InputMonteCarlo->Add(\"http://arturos.web.cern.ch/arturos/napoli/OutReach/mc/mc_117049.ttbar_had.root\");\n",
    "InputMonteCarlo->Add(\"http://arturos.web.cern.ch/arturos/napoli/OutReach/mc/mc_117050.ttbar_lep.root\");\n",
    "\n",
    "InputMonteCarlo->Add(\"http://arturos.web.cern.ch/arturos/napoli/OutReach/mc/mc_147770.Zee.root\");\n",
    "\n",
    "InputMonteCarlo->Add(\"http://arturos.web.cern.ch/arturos/napoli/OutReach/mc/mc_147771.Zmumu.root\");\n",
    "InputMonteCarlo->Add(\"http://arturos.web.cern.ch/arturos/napoli/OutReach/mc/mc_147772.Ztautau.root\");\n",
    "InputMonteCarlo->Add(\"http://arturos.web.cern.ch/arturos/napoli/OutReach/mc/mc_158020.ZPrime_ee.root\");\n",
    "InputMonteCarlo->Add(\"http://arturos.web.cern.ch/arturos/napoli/OutReach/mc/mc_158026.ZPrime_mm.root\");\n",
    "InputMonteCarlo->Add(\"http://arturos.web.cern.ch/arturos/napoli/OutReach/mc/mc_160155.ggH125_ZZ4lep.root\");\n",
    "InputMonteCarlo->Add(\"http://arturos.web.cern.ch/arturos/napoli/OutReach/mc/mc_160205.VBFH125_ZZ4lep.root\");\n",
    "InputMonteCarlo->Add(\"http://arturos.web.cern.ch/arturos/napoli/OutReach/mc/mc_161005.ggH125_WW2lep.root\");\n",
    "InputMonteCarlo->Add(\"http://arturos.web.cern.ch/arturos/napoli/OutReach/mc/mc_161055.VBFH125_WW2lep.root\");\n",
    "InputMonteCarlo->Add(\"http://arturos.web.cern.ch/arturos/napoli/OutReach/mc/mc_167740.WenuWithB.root\");\n",
    "InputMonteCarlo->Add(\"http://arturos.web.cern.ch/arturos/napoli/OutReach/mc/mc_167741.WenuJetsBVeto.root\");\n",
    "InputMonteCarlo->Add(\"http://arturos.web.cern.ch/arturos/napoli/OutReach/mc/mc_167742.WenuNoJetsBVeto.root\");\n",
    "InputMonteCarlo->Add(\"http://arturos.web.cern.ch/arturos/napoli/OutReach/mc/mc_167743.WmunuWithB.root\");\n",
    "InputMonteCarlo->Add(\"http://arturos.web.cern.ch/arturos/napoli/OutReach/mc/mc_167744.WmunuJetsBVeto.root\");\n",
    "InputMonteCarlo->Add(\"http://arturos.web.cern.ch/arturos/napoli/OutReach/mc/mc_167745.WmunuNoJetsBVeto.root\");\n",
    "InputMonteCarlo->Add(\"http://arturos.web.cern.ch/arturos/napoli/OutReach/mc/mc_167746.WtaunuWithB.root\");\n",
    "InputMonteCarlo->Add(\"http://arturos.web.cern.ch/arturos/napoli/OutReach/mc/mc_167747.WtaunuJetsBVeto.root\");\n",
    "InputMonteCarlo->Add(\"http://arturos.web.cern.ch/arturos/napoli/OutReach/mc/mc_167748.WtaunuNoJetsBVeto.root\");\n",
    "*/"
   ]
  },
  {
   "cell_type": "markdown",
   "metadata": {},
   "source": [
    "<p>Text</p>"
   ]
  },
  {
   "cell_type": "code",
   "execution_count": null,
   "metadata": {},
   "outputs": [],
   "source": [
    "Int_t InputEgamma_lep_n;\n",
    "\n",
    "Float_t InputEgamma_lep_pt[5],\n",
    "        InputEgamma_lep_eta[5],\n",
    "        InputEgamma_lep_phi[5],\n",
    "        InputEgamma_lep_type[5];"
   ]
  },
  {
   "cell_type": "code",
   "execution_count": null,
   "metadata": {},
   "outputs": [],
   "source": [
    "Int_t InputMuons_lep_n;\n",
    "\n",
    "Float_t InputMuons_lep_pt[5],\n",
    "        InputMuons_lep_eta[5],\n",
    "        InputMuons_lep_phi[5],\n",
    "        InputMuons_lep_type[5];"
   ]
  },
  {
   "cell_type": "code",
   "execution_count": null,
   "metadata": {},
   "outputs": [],
   "source": [
    "Int_t InputMC_lep_n;\n",
    "\n",
    "Float_t InputMC_lep_pt[5],\n",
    "        InputMC_lep_eta[5],\n",
    "        InputMC_lep_phi[5],\n",
    "        InputMC_lep_type[5];"
   ]
  },
  {
   "cell_type": "markdown",
   "metadata": {},
   "source": [
    "<p>Text</p>"
   ]
  },
  {
   "cell_type": "code",
   "execution_count": null,
   "metadata": {
    "collapsed": true
   },
   "outputs": [],
   "source": [
    "InputDataEgamma->SetBranchAddress(\"lep_n\",    &InputEgamma_lep_n);\n",
    "InputDataEgamma->SetBranchAddress(\"lep_pt\",   &InputEgamma_lep_pt);\n",
    "InputDataEgamma->SetBranchAddress(\"lep_eta\",  &InputEgamma_lep_eta);\n",
    "InputDataEgamma->SetBranchAddress(\"lep_phi\",  &InputEgamma_lep_phi);\n",
    "InputDataEgamma->SetBranchAddress(\"lep_type\", &InputEgamma_lep_type);"
   ]
  },
  {
   "cell_type": "markdown",
   "metadata": {},
   "source": [
    "<p>Text</p>"
   ]
  },
  {
   "cell_type": "code",
   "execution_count": null,
   "metadata": {
    "collapsed": true
   },
   "outputs": [],
   "source": [
    "InputDataMuons->SetBranchAddress(\"lep_n\",  &InputMuons_lep_n);\n",
    "InputDataMuons->SetBranchAddress(\"lep_pt\", &InputMuons_lep_pt);\n",
    "InputDataMuons->SetBranchAddress(\"lep_eta\",&InputMuons_lep_eta);\n",
    "InputDataMuons->SetBranchAddress(\"lep_phi\",&InputMuons_lep_phi);\n",
    "InputDataMuons->SetBranchAddress(\"lep_type\",&InputMuons_lep_type);"
   ]
  },
  {
   "cell_type": "markdown",
   "metadata": {},
   "source": [
    "<p>Text</p>"
   ]
  },
  {
   "cell_type": "code",
   "execution_count": null,
   "metadata": {},
   "outputs": [],
   "source": [
    "InputMonteCarlo->SetBranchAddress(\"lep_n\",  &InputMC_lep_n);\n",
    "InputMonteCarlo->SetBranchAddress(\"lep_pt\", &InputMC_lep_pt);\n",
    "InputMonteCarlo->SetBranchAddress(\"lep_eta\",&InputMC_lep_eta);\n",
    "InputMonteCarlo->SetBranchAddress(\"lep_phi\",&InputMC_lep_phi);\n",
    "InputMonteCarlo->SetBranchAddress(\"lep_type\",&InputMC_lep_type);"
   ]
  },
  {
   "cell_type": "markdown",
   "metadata": {},
   "source": [
    "<p>Text</p>"
   ]
  },
  {
   "cell_type": "code",
   "execution_count": null,
   "metadata": {},
   "outputs": [],
   "source": [
    "TH1F *h_lep_pt   = new TH1F(\"h_lep_pt\",\"h_lep_pt\",100,0,250000);\n",
    "TH1F *h_lep_pt_2 = new TH1F(\"h_lep_pt_2\",\"h_lep_pt\",100,0,250000);\n",
    "TH1F *h_lep12_IM = new TH1F(\"h_lep12_IM\",\"h_lep12_IM\",100,0,800000);\n",
    "TH1I *h_lep12_type = new TH1I(\"h_lep12_type\",\"h_lep12_type\",40,-20,20);"
   ]
  },
  {
   "cell_type": "markdown",
   "metadata": {},
   "source": [
    "<p>Text</p>"
   ]
  },
  {
   "cell_type": "code",
   "execution_count": null,
   "metadata": {},
   "outputs": [],
   "source": [
    "h_lep_pt->SetMarkerStyle(8);\n",
    "h_lep_pt->SetMarkerSize(0.5);\n",
    "h_lep_pt_2->SetLineColor(0);\n",
    "\n",
    "h_lep_pt_2->SetMarkerStyle(8);\n",
    "h_lep_pt_2->SetMarkerSize(0.5);\n",
    "h_lep_pt_2->SetLineColor(2);"
   ]
  },
  {
   "cell_type": "markdown",
   "metadata": {},
   "source": [
    "<p>Text</p>"
   ]
  },
  {
   "cell_type": "code",
   "execution_count": null,
   "metadata": {},
   "outputs": [],
   "source": [
    "int nentries,nbytes,i;\n",
    "nentries=(Int_t)InputDataEgamma->GetEntries();\n",
    "\n",
    "// Variables for...\n",
    "float M;\n",
    "\n",
    "for (i = 0;i<nentries;i++) {\n",
    "    nbytes = InputDataEgamma->GetEntry(i);\n",
    "        \n",
    "    //Uncut histogram\n",
    "    h_lep_pt->Fill(InputEgamma_lep_pt[0]);\n",
    "    h_lep12_type->Fill(InputEgamma_lep_type[0]);\n",
    "    \n",
    "\n",
    "    //Cut histogram\n",
    "    if (InputEgamma_lep_n>1 && InputEgamma_lep_pt[1]>15000.)\n",
    "    {\n",
    "        h_lep_pt_2->Fill(InputEgamma_lep_pt[1]);\n",
    "        \n",
    "        // Calculation of the invarriant mass of the two leading leptons, using:\n",
    "        // InvMass^2 = 2.pt_{lep1}.pt_{lep2}.(\\cosh{(eta_{lep1}.eta_{lep2})} - \\cos{(phi_{lep1}.phi_{lep2})})\n",
    "        M = sqrt(2*InputEgamma_lep_pt[0]*InputEgamma_lep_pt[1]*\n",
    "                 (  TMath::CosH(InputEgamma_lep_eta[0]*InputEgamma_lep_eta[1]) \n",
    "                  - TMath::Cos(InputEgamma_lep_phi[0]*InputEgamma_lep_phi[1])));\n",
    "        \n",
    "        \n",
    "      //Fill ...\n",
    "      h_lep12_IM->Fill(M);\n",
    "      h_lep12_type->Fill(InputEgamma_lep_type[1]);\n",
    "    }\n",
    "  }"
   ]
  },
  {
   "cell_type": "markdown",
   "metadata": {},
   "source": [
    "<p>Text</p>"
   ]
  },
  {
   "cell_type": "code",
   "execution_count": null,
   "metadata": {},
   "outputs": [],
   "source": [
    "TCanvas *c1 = new TCanvas(\"c1\",\"c1\",50,50,800,600);\n",
    "c1->SetFillColor(0);\n",
    "//gStyle->SetOptStat(0);\n",
    "gStyle->SetPalette(1);\n",
    "\n",
    "TCanvas *c2 = new TCanvas(\"c2\",\"c2\",50,50,800,600);\n",
    "c2->SetFillColor(0);"
   ]
  },
  {
   "cell_type": "markdown",
   "metadata": {},
   "source": [
    "<p>Text</p>"
   ]
  },
  {
   "cell_type": "code",
   "execution_count": null,
   "metadata": {},
   "outputs": [],
   "source": [
    "  TLegend *leg = new TLegend(0.8,0.8,0.98,0.98);\n",
    "  leg->AddEntry(h_lep_pt,\"Uncut\",\"P\");\n",
    "  leg->AddEntry(h_lep_pt_2,\"Cut\",\"P\");"
   ]
  },
  {
   "cell_type": "markdown",
   "metadata": {},
   "source": [
    "<p>Text</p>"
   ]
  },
  {
   "cell_type": "code",
   "execution_count": null,
   "metadata": {},
   "outputs": [],
   "source": [
    "  c1->cd();\n",
    "  h_lep_pt->Draw();\n",
    "  h_lep_pt_2->Draw(\"same\");\n",
    "  //leg->Draw();"
   ]
  },
  {
   "cell_type": "markdown",
   "metadata": {},
   "source": [
    "<p>Text</p>"
   ]
  },
  {
   "cell_type": "code",
   "execution_count": null,
   "metadata": {},
   "outputs": [],
   "source": [
    "c1->Draw();"
   ]
  },
  {
   "cell_type": "markdown",
   "metadata": {},
   "source": [
    "<p>Legend of the plot</p>"
   ]
  },
  {
   "cell_type": "code",
   "execution_count": null,
   "metadata": {},
   "outputs": [],
   "source": [
    "  c2->cd();\n",
    "  h_lep12_IM->Draw();"
   ]
  },
  {
   "cell_type": "markdown",
   "metadata": {},
   "source": [
    "<p>Text</p>"
   ]
  },
  {
   "cell_type": "code",
   "execution_count": null,
   "metadata": {},
   "outputs": [],
   "source": [
    "c2->Draw();"
   ]
  },
  {
   "cell_type": "markdown",
   "metadata": {},
   "source": [
    "<p>\n",
    "<b>Figure 2:</b>\n",
    "Invariant mass (<i>InvMass</i>) of the di-lepton system. For this calculation we use the equation as described in <a href=\"https://en.wikipedia.org/wiki/Invariant_mass#Collider_experiments\">Ref[4]</a>:\n",
    "$$InvMass^2 = 2.pt_{lep1}.pt_{lep2}.(\\cosh{(eta_{lep1}.eta_{lep2})} - \\cos{(phi_{lep1}.phi_{lep2})})$$\n",
    "</p>"
   ]
  },
  {
   "cell_type": "markdown",
   "metadata": {
    "collapsed": true
   },
   "source": [
    "$$c = \\sqrt{a^2 + b^2}$$"
   ]
  },
  {
   "cell_type": "markdown",
   "metadata": {},
   "source": [
    "<h3>References</h3>\n",
    "<ol>\n",
    "  <li>primera</li>\n",
    "  <li>segunda</li>\n",
    "  <li>tercera</li>\n",
    "  <li><a href=\"https://en.wikipedia.org/wiki/Invariant_mass#Collider_experiments\">Wikipedia</a></li>\n",
    "</ol> \n",
    "\n",
    "<h3>Notes</h3>\n",
    "<al>\n",
    "  <li>This notebook can be very large but fter it can be \"include\" in other to reduce the amount of repetitive work as creating TChain and/or charge their varibles.</li>\n",
    "  <li>Definition of runNumber variable <a href=\"#runNumber\">(01)</a></li>\n",
    "</al>"
   ]
  },
  {
   "cell_type": "markdown",
   "metadata": {},
   "source": [
    "<CENTER>\n",
    "<h3>Example brought to you by the ATLAS Outreach Data&Tools group with the help of CERN!</h3>\n",
    "</CENTER>"
   ]
  },
  {
   "cell_type": "code",
   "execution_count": null,
   "metadata": {
    "collapsed": true
   },
   "outputs": [],
   "source": []
  }
 ],
 "metadata": {
  "kernelspec": {
   "display_name": "ROOT C++",
   "language": "c++",
   "name": "root"
  },
  "language_info": {
   "codemirror_mode": "text/x-c++src",
   "file_extension": ".C",
   "mimetype": " text/x-c++src",
   "name": "c++"
  }
 },
 "nbformat": 4,
 "nbformat_minor": 1
}
